{
 "cells": [
  {
   "cell_type": "markdown",
   "metadata": {},
   "source": [
    "### Updating an existing table with the formatted JSON file"
   ]
  },
  {
   "cell_type": "markdown",
   "metadata": {},
   "source": [
    "Checking that the Access Keys are legit"
   ]
  },
  {
   "cell_type": "code",
   "execution_count": null,
   "metadata": {},
   "outputs": [],
   "source": [
    "import boto3\n",
    "import json\n",
    "\n",
    "REGION = 'eu-north-1'\n",
    "ACCESS_KEY = '#####'\n",
    "SECRET_ACCESS_KEY = '#####'\n",
    "\n",
    "def connection_check():\n",
    "    # Create a session using your credentials\n",
    "    session = boto3.Session(\n",
    "                            aws_access_key_id=ACCESS_KEY,\n",
    "                            aws_secret_access_key=SECRET_ACCESS_KEY,\n",
    "                            region_name=REGION\n",
    "                            )\n",
    "\n",
    "    # Now you can create clients or resources using this session\n",
    "    dynamodb = session.resource('dynamodb')\n",
    "\n",
    "    # For example, list tables to verify the connection\n",
    "    print(\"Testing if connection works, printing all DynamoDB tables:\")\n",
    "    tables = dynamodb.tables.all()\n",
    "    for table in tables:\n",
    "        print(table.name)\n",
    "\n",
    "connection_check()"
   ]
  },
  {
   "cell_type": "markdown",
   "metadata": {},
   "source": [
    "Updating the Questions table"
   ]
  },
  {
   "cell_type": "code",
   "execution_count": null,
   "metadata": {},
   "outputs": [],
   "source": [
    "## Create the table and run this function\n",
    "QUESTIONS_TABLE_NAME = 'Questions'\n",
    "QUESTIONS_JSON_FILE = \"client\\src\\static-data\\questions.json\"\n",
    "\n",
    "def batch_write_questions():\n",
    "    # Create a session using your credentials\n",
    "    session = boto3.Session(\n",
    "                            aws_access_key_id=ACCESS_KEY,\n",
    "                            aws_secret_access_key=SECRET_ACCESS_KEY,\n",
    "                            region_name=REGION\n",
    "                            )\n",
    "   \n",
    "    # connect to an existing dynamodb\n",
    "    dynamodb = session.resource('dynamodb')\n",
    "\n",
    "    # connect to SubCategory_table table\n",
    "    questions_table = dynamodb.Table(QUESTIONS_TABLE_NAME) # decide between rnas, categories, subcategories\n",
    "\n",
    "    # Read JSON data from file\n",
    "    with open(QUESTIONS_JSON_FILE, encoding=\"utf8\") as f:\n",
    "        data = json.load(f)\n",
    "    print(data)\n",
    "\n",
    "    # Insert items into DynamoDB table\n",
    "    with questions_table.batch_writer() as batch:\n",
    "        for item in data:\n",
    "            print(item)\n",
    "            batch.put_item(Item=item)\n",
    "\n",
    "batch_write_questions()"
   ]
  },
  {
   "cell_type": "markdown",
   "metadata": {},
   "source": [
    "Updating the SubCategory table"
   ]
  },
  {
   "cell_type": "code",
   "execution_count": null,
   "metadata": {},
   "outputs": [],
   "source": [
    "## Create the table and run this function\n",
    "SUBCAT_TABLE_NAME = 'SubCategory'\n",
    "SUBCATEGORY_JSON_FILE = \"client\\src\\static-data\\sub-categories.json\"\n",
    "\n",
    "def batch_write_subcat():\n",
    "    # Create a session using your credentials\n",
    "    session = boto3.Session(\n",
    "                            aws_access_key_id=ACCESS_KEY,\n",
    "                            aws_secret_access_key=SECRET_ACCESS_KEY,\n",
    "                            region_name=REGION\n",
    "                            )\n",
    "   \n",
    "    # connect to an existing dynamodb\n",
    "    dynamodb = session.resource('dynamodb')\n",
    "\n",
    "    # connect to SubCategory_table table\n",
    "    SubCategory_table = dynamodb.Table(SUBCAT_TABLE_NAME) # decide between rnas, categories, subcategories\n",
    "\n",
    "    # Read JSON data from file\n",
    "    with open(SUBCATEGORY_JSON_FILE) as f:\n",
    "        data = json.load(f)\n",
    "\n",
    "    # Insert items into DynamoDB table\n",
    "    with SubCategory_table.batch_writer() as batch:\n",
    "        for item in data:\n",
    "            print(item)\n",
    "            batch.put_item(Item=item)\n",
    "\n",
    "batch_write_subcat()"
   ]
  }
 ],
 "metadata": {
  "kernelspec": {
   "display_name": "Python 3",
   "language": "python",
   "name": "python3"
  },
  "language_info": {
   "codemirror_mode": {
    "name": "ipython",
    "version": 3
   },
   "file_extension": ".py",
   "mimetype": "text/x-python",
   "name": "python",
   "nbconvert_exporter": "python",
   "pygments_lexer": "ipython3",
   "version": "3.12.0"
  }
 },
 "nbformat": 4,
 "nbformat_minor": 2
}
